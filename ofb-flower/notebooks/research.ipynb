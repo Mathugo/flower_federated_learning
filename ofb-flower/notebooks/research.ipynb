{
 "cells": [
  {
   "cell_type": "code",
   "execution_count": 6,
   "metadata": {},
   "outputs": [
    {
     "name": "stdout",
     "output_type": "stream",
     "text": [
      "Training on cpu\n"
     ]
    }
   ],
   "source": [
    "import torchvision.transforms as transforms\n",
    "import importlib, os\n",
    "import flwr as fl\n",
    "from torch.utils.data import DataLoader, random_split\n",
    "import torch\n",
    "DEVICE = torch.device(\"cpu\")\n",
    "DEVICE = torch.device(\"cuda:0\" if torch.cuda.is_available() else \"cpu\")\n",
    "print(f\"Training on {DEVICE}\")\n",
    "\n",
    "import client.src.pipeline as pl\n",
    "import client.src.client as flclient\n",
    "import server.src.server as clserver\n",
    "\n",
    "from server.main import Args\n",
    "from models import ViT\n",
    "import utils\n",
    "\n",
    "importlib.reload(pl)\n",
    "importlib.reload(utils)\n",
    "importlib.reload(flclient)\n",
    "importlib.reload(clserver)\n",
    "#importlib.reload(flclient)\n",
    "\n",
    "NUM_CLIENTS = 4\n",
    "MODEL = ViT\n",
    "NUM_CLASSES=3"
   ]
  },
  {
   "cell_type": "code",
   "execution_count": 7,
   "metadata": {},
   "outputs": [],
   "source": []
  },
  {
   "cell_type": "code",
   "execution_count": 8,
   "metadata": {},
   "outputs": [
    {
     "name": "stdout",
     "output_type": "stream",
     "text": [
      "[DATASET] Loading labels ..\n",
      "[LABEL] Getting label 0 -> gear_red\n",
      "[LABEL] Getting label 1 -> pic\n",
      "[LABEL] Getting label 2 -> gear_black\n",
      "[DATASET] Done\n",
      "[DATASET] Loading labels ..\n",
      "[LABEL] Getting label 0 -> gear_red\n",
      "[LABEL] Getting label 1 -> pic\n",
      "[LABEL] Getting label 2 -> gear_black\n",
      "[DATASET] Done\n",
      "Len d_train 344\n",
      "Partition size 86 Lengths [86, 86, 86, 86]\n"
     ]
    }
   ],
   "source": [
    "dataset = \"labeling/roboflow/Gear_Classify.v3-gear-fl-raw\"\n",
    "trainloaders, valloaders, testloader = load_datasets(dataset, NUM_CLIENTS)"
   ]
  },
  {
   "cell_type": "code",
   "execution_count": null,
   "metadata": {},
   "outputs": [],
   "source": [
    "class Args:\n",
    "  server_address = \"localhost\"\n",
    "  server_round = 3\n",
    "  fraction_fit = 0.3\n",
    "  fraction_eval = 0.3\n",
    "  min_num_clients = NUM_CLIENTS\n",
    "  min_sample_size = 3\n",
    "  log_host = \"127.0.0.1\"\n",
    "  model_path = None\n",
    "  model = \"ViT\"\n",
    "  batch_size = 32\n",
    "  num_workers = 4\n",
    "  pin_memory = True\n",
    "  n_classes = 3\n",
    "\n",
    "args=Args()"
   ]
  }
 ],
 "metadata": {
  "kernelspec": {
   "display_name": "Python 3.7.13 ('flower3.7')",
   "language": "python",
   "name": "python3"
  },
  "language_info": {
   "codemirror_mode": {
    "name": "ipython",
    "version": 3
   },
   "file_extension": ".py",
   "mimetype": "text/x-python",
   "name": "python",
   "nbconvert_exporter": "python",
   "pygments_lexer": "ipython3",
   "version": "3.7.13"
  },
  "orig_nbformat": 4,
  "vscode": {
   "interpreter": {
    "hash": "fa24e9454f98d8d2dd8b168680dec3ce900d4efa54ef106babd2dbc69ffdb00e"
   }
  }
 },
 "nbformat": 4,
 "nbformat_minor": 2
}
